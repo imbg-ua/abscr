{
 "cells": [
  {
   "cell_type": "code",
   "execution_count": null,
   "id": "7477df7f-af7f-4e4f-a10b-a01412bd5e7c",
   "metadata": {},
   "outputs": [],
   "source": [
    "import abscr\n",
    "from abscr.omero_connection import connector\n",
    "from abscr.segmentation import segmentor\n",
    "from abscr.analysis import counter"
   ]
  },
  {
   "cell_type": "markdown",
   "id": "309b3e32-957c-483e-88e0-ac4024b83019",
   "metadata": {
    "tags": []
   },
   "source": [
    "### Segmentation of an image from Omero."
   ]
  },
  {
   "cell_type": "markdown",
   "id": "b2b96cad-4513-4f7d-a034-0c56f92ec1b3",
   "metadata": {},
   "source": [
    "Connect to Omero with your username and type in your password."
   ]
  },
  {
   "cell_type": "code",
   "execution_count": null,
   "id": "d2dcd527-ae4a-4d0d-be5f-a315b30dc911",
   "metadata": {},
   "outputs": [],
   "source": [
    "user = ''\n",
    "host = ''\n",
    "client = connector.OmeroClient(username=user, host=host)"
   ]
  },
  {
   "cell_type": "code",
   "execution_count": null,
   "id": "dabbf6e4-0d18-4313-896d-fe79d985747c",
   "metadata": {},
   "outputs": [],
   "source": [
    "client.show_user_summary()"
   ]
  },
  {
   "cell_type": "code",
   "execution_count": null,
   "id": "3d0dc6be-9996-44e3-8440-2f613d048706",
   "metadata": {},
   "outputs": [],
   "source": [
    "# Set your group id\n",
    "group_id = 611  # ABSCR group\n",
    "client.set_omero_group(group_id)\n",
    "\n",
    "# You can also find id of particular image in sanger omero webclient\n",
    "image_id = 41440\n",
    "img_obj = client.get_image_cursor(image_id=image_id)\n",
    "\n",
    "x, y = 60000, 17000\n",
    "size = (2000, 2000)\n",
    "\n",
    "img_region = client.get_image_jpg_region(img_obj, x, y, size)\n",
    "\n",
    "img_region"
   ]
  },
  {
   "cell_type": "code",
   "execution_count": null,
   "id": "842f20ed-de81-4baf-a141-b607e6e322de",
   "metadata": {},
   "outputs": [],
   "source": [
    "client.close()"
   ]
  },
  {
   "cell_type": "markdown",
   "id": "954f0c34-dc4f-45df-836b-f8f0afa125e0",
   "metadata": {},
   "source": [
    "Segmentor's method `predict_all` is designed to segment both epithelial and immune cells on buccal swab slides. \n",
    "\n",
    "By default, it produces a `.txt` file with masks and a `.png` file with those masks plotted on the original image. The output files are saved in the `savedir` directory (which is the current working directory by default). If the specified `savedir` directory does not exist it will be created. You can pass either a full or relative path as the `savedir`. Setting the `plot_segm` parameter to `True` will plot the masks in the notebook (or script).\n",
    "\n",
    "If the image to segment is a region of the bigger image from Omero, then the output `.png` and `.txt` files will have `_x_y_wxh` suffix in their filenames. Here `(x, y)` are the top left coordinates of the region, and `w` and `h` are the width and height of the region respectively. \n",
    "\n",
    "The return value of the `predict_all` method is a `BuccalSwabSegmentation` class object with masks, flows, styles and diams for each cell type. (See usage examples in the Cell counter usage section).\n",
    "\n",
    "**Note**: You can run the method without specifying the parameters, though this may result in a poor segmentation result. This highly depends on specifying a proper cell diameter when running a model. In turn, the cell diameter parameter depends on the image scaling (i.e. the distance from the microscope to the slide). The default cell diameter value in pixels is 100."
   ]
  },
  {
   "cell_type": "code",
   "execution_count": null,
   "id": "95d59279-c3a4-4d62-9714-172fbfc6ee5d",
   "metadata": {},
   "outputs": [],
   "source": [
    "segmentor = segmentor.Segmentor()\n",
    "result = segmentor.predict_all(img_region, plot_segm=True, save_png=False, diameter_epithelial=65)"
   ]
  },
  {
   "cell_type": "markdown",
   "id": "8476ebf3-5f00-4d8d-a230-4ce5d16660d8",
   "metadata": {},
   "source": [
    "There are methods to segment only epithelial or immune cells. (Though immune cell segmentation is yet to be implemented).\n",
    "\n",
    "E.g. the `predict_epithelial` method uses a cellpose model to segment epithelial cells. The default parameters are:\n",
    "- `diameter` = 30\n",
    "- `flow_threshold` = 0.4\n",
    "- `cellprob_threshold` = 0.0\n",
    "- `channels` = [0, 0]\n",
    "- `invert` = True\n",
    "- `model_type` = cyto\n",
    "\n",
    "These parameters can be modified if you think this will improve the segmentation accuracy.\n",
    "\n",
    "You can use the `plot_segmentation` method to plot the segmentation result from an image and an array of masks. To save the plots produced by this method you can use the `save_png=True` option. The saving directory for the output `.png` file can be specified with the `savedir` parameter."
   ]
  },
  {
   "cell_type": "code",
   "execution_count": null,
   "id": "27d80eb2-8578-485b-a6ae-e053e5f2a33a",
   "metadata": {},
   "outputs": [],
   "source": [
    "epithelial_segmentation = segmentor.predict_epithelial(img_region, diameter=65)\n",
    "\n",
    "# this plots the original image and epithelial masks\n",
    "segmentor.plot_segmentation(img_region, [epithelial_segmentation.masks]) \n",
    "\n",
    "# this additionaly plots cellpose flows (just as an example)\n",
    "segmentor.plot_segmentation(img_region, [epithelial_segmentation.masks, epithelial_segmentation.flows[0]])"
   ]
  },
  {
   "cell_type": "markdown",
   "id": "50ebde26-713e-41ee-ba94-ac45dcbed641",
   "metadata": {
    "tags": []
   },
   "source": [
    "### Segmentation of an image from the local storage."
   ]
  },
  {
   "cell_type": "markdown",
   "id": "abcfa71d-a00f-40c8-adb1-6f3e36a84290",
   "metadata": {},
   "source": [
    "You can also pass a filename, a path, or a file object to the `predict_all` method.\n",
    "\n",
    "**Note**: if you want to segment an image from a different location other than the current one the full path may be needed. The full path must start with `/`.\n",
    "\n",
    "In the following example, I manually uploaded a region from the `020_Buccal_05.04.2022` slide in the directory where the current notebook is located. After running the `predict_all` method a new directory named `segmentation_result/` will be created in the current one and the output files will be saved there."
   ]
  },
  {
   "cell_type": "code",
   "execution_count": null,
   "id": "4b5bdfdb-bc05-4a55-a298-a25ab0647109",
   "metadata": {},
   "outputs": [],
   "source": [
    "image_name = '020_Buccal_05.04.2022_small.jpeg' \n",
    "result2 = segmentor.predict_all(image_name, plot_segm=True, savedir='segmentation_results/', diameter_epithelial=100)"
   ]
  },
  {
   "cell_type": "markdown",
   "id": "5701e8ad-ed96-448d-a435-cc12608f0854",
   "metadata": {},
   "source": [
    "### Cell counter usage"
   ]
  },
  {
   "cell_type": "markdown",
   "id": "e3bab98f-d6cf-4d84-acf4-b5ee4c35cc1e",
   "metadata": {},
   "source": [
    "The library has a counter class which has the `count_cells_from_masks` method. The method counts cells from the masks obtained after the segmentation step.\n",
    "\n",
    "This method accepts any of the following inputs:\n",
    "- a `.txt` file with masks\n",
    "- an `.npy` file with masks\n",
    "- an `np.ndarray` object with masks"
   ]
  },
  {
   "cell_type": "code",
   "execution_count": null,
   "id": "31b019d8-82a3-48c6-99e0-c514136f9854",
   "metadata": {},
   "outputs": [],
   "source": [
    "cell_counter = counter.CellCounter()"
   ]
  },
  {
   "cell_type": "markdown",
   "id": "b192b2f4-69fa-4423-a04e-c0ecf9c36762",
   "metadata": {},
   "source": [
    "You can pass multiple sets of masks to the method to get a tuple of cell counts."
   ]
  },
  {
   "cell_type": "code",
   "execution_count": null,
   "id": "9a8b1c61-94c7-48cd-ae42-6509d92e2b9d",
   "metadata": {},
   "outputs": [],
   "source": [
    "print(cell_counter.count_cells_from_masks(epithelial_segmentation.masks))\n",
    "cell_counter.count_cells_from_masks(epithelial_segmentation.masks, result2.epithelial_masks)"
   ]
  }
 ],
 "metadata": {
  "kernelspec": {
   "display_name": "cenv4",
   "language": "python",
   "name": "cenv4"
  },
  "language_info": {
   "codemirror_mode": {
    "name": "ipython",
    "version": 3
   },
   "file_extension": ".py",
   "mimetype": "text/x-python",
   "name": "python",
   "nbconvert_exporter": "python",
   "pygments_lexer": "ipython3",
   "version": "3.10.9"
  }
 },
 "nbformat": 4,
 "nbformat_minor": 5
}
