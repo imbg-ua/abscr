{
 "cells": [
  {
   "cell_type": "code",
   "execution_count": null,
   "id": "aedd41bd-1796-44cc-b637-1bef3cceec03",
   "metadata": {},
   "outputs": [],
   "source": [
    "import abscr\n",
    "from abscr.omero_connection import connector"
   ]
  },
  {
   "cell_type": "code",
   "execution_count": null,
   "id": "4e9bf393-cd47-4dc2-ab5e-05c1d6dc4da2",
   "metadata": {},
   "outputs": [],
   "source": [
    "user = ''\n",
    "host = ''\n",
    "client = connector.OmeroClient(username=user, host=host)"
   ]
  },
  {
   "cell_type": "code",
   "execution_count": null,
   "id": "f911e8f0-93ae-459a-b1f9-0331c91cb3f1",
   "metadata": {},
   "outputs": [],
   "source": [
    "client.show_user_summary()"
   ]
  },
  {
   "cell_type": "code",
   "execution_count": null,
   "id": "7811817e-63f1-436a-abf0-8be996dd14bf",
   "metadata": {},
   "outputs": [],
   "source": [
    "# Set your group id\n",
    "group_id = 611  # ABSCR group\n",
    "client.set_omero_group(group_id)\n",
    "\n",
    "# You can also find id of particular image in sanger omero webclient\n",
    "image_id = 41440\n",
    "img_obj = client.get_image_cursor(image_id=image_id)"
   ]
  },
  {
   "cell_type": "markdown",
   "id": "d33f5046-4518-4672-af90-9f0ba3a521e6",
   "metadata": {},
   "source": [
    "## Let's look at the image thumbnail first"
   ]
  },
  {
   "cell_type": "markdown",
   "id": "52240468-e63f-43b1-a402-9d0e173e364f",
   "metadata": {},
   "source": [
    "Thumbnail size is $1/factor$"
   ]
  },
  {
   "cell_type": "code",
   "execution_count": null,
   "id": "45bc83bd-1b1e-42c4-bc60-87d13385ee25",
   "metadata": {},
   "outputs": [],
   "source": [
    "client.get_image_thumbnail(img_obj, factor=60)"
   ]
  },
  {
   "cell_type": "code",
   "execution_count": null,
   "id": "c3ecf0e1-95d5-4bb1-b5b9-7429cb959e78",
   "metadata": {},
   "outputs": [],
   "source": [
    "client.show_img_info(img_obj)"
   ]
  },
  {
   "cell_type": "markdown",
   "id": "26b7611e-c415-4247-9e4c-963c5f64df26",
   "metadata": {},
   "source": [
    "## Get some region of the image"
   ]
  },
  {
   "cell_type": "code",
   "execution_count": null,
   "id": "eef5fa43-a813-4c1e-b179-7224615dc550",
   "metadata": {},
   "outputs": [],
   "source": [
    "x, y = 61000, 18000\n",
    "size = (1000, 1000)\n",
    "\n",
    "img_region = client.get_image_jpg_region(img_obj, x, y, size)"
   ]
  },
  {
   "cell_type": "code",
   "execution_count": null,
   "id": "e9b656b8-0d6c-4e63-8c0f-ec16b0fb6e17",
   "metadata": {},
   "outputs": [],
   "source": [
    "img_region"
   ]
  },
  {
   "cell_type": "markdown",
   "id": "d9822e0b-433d-45dd-a932-667bbdcac2bc",
   "metadata": {},
   "source": [
    "## Close the connection"
   ]
  },
  {
   "cell_type": "code",
   "execution_count": null,
   "id": "ce4512e4-e47c-4652-81e7-8c1ed202adcc",
   "metadata": {},
   "outputs": [],
   "source": [
    "client.close()"
   ]
  }
 ],
 "metadata": {
  "kernelspec": {
   "display_name": "cenv",
   "language": "python",
   "name": "python3"
  },
  "language_info": {
   "codemirror_mode": {
    "name": "ipython",
    "version": 3
   },
   "file_extension": ".py",
   "mimetype": "text/x-python",
   "name": "python",
   "nbconvert_exporter": "python",
   "pygments_lexer": "ipython3",
   "version": "3.9.12"
  },
  "vscode": {
   "interpreter": {
    "hash": "34e468f95b44ce84c83851522496737c0489777aad6e30ad2593262ff7756327"
   }
  }
 },
 "nbformat": 4,
 "nbformat_minor": 5
}
